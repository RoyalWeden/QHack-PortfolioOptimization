{
 "cells": [
  {
   "cell_type": "markdown",
   "metadata": {},
   "source": [
    "# Practical Portfolio Optimization with Warm-Starting Qubits using QAOA"
   ]
  },
  {
   "cell_type": "markdown",
   "metadata": {},
   "source": [
    "Before getting into the nitty-gritty of the title, it is important to take each piece of it step by step. By continuing ideas presented in the [Qiskit Textbook](https://qiskit.org/documentation/finance/tutorials/01_portfolio_optimization.html) and the paper [Improving Variational Quantum Optimization using CVaR. Barkoutsos et al. 2019](https://arxiv.org/abs/1907.04769) that experiments this problem on real quantum hardware, I will work out the problem of portfolio optimization, by solving the following problem:\n",
    "$\\begin{split}\\begin{aligned}\n",
    "\\min_{x \\in \\{0, 1\\}^n}  q x^T \\Sigma x - \\mu^T x\\\\\n",
    "\\text{subject to: } b \\le d^T x \\le B\n",
    "\\end{aligned}\\end{split}$\n",
    "where I use the following notation:\n",
    "* $x \\in \\{0, 1\\}^n$ denotes the vector of binary decision variables, which indicate which assets to pick ($x[i] = 1$) and which not to pick ($x[i] = 0$),\n",
    "* $d \\in \\{0, \\infty\\}^n$ denotes the vector of asset values in dollar amount,\n",
    "* $\\mu \\in \\mathbb{R}^n$ defines the expected returns for the assets,\n",
    "* $\\Sigma \\in \\mathbb{R}^{n \\times n}$ specifies the covariances between the assets,\n",
    "* $q > 0$ controls the risk appetite of the decision maker,\n",
    "* and $b$ denotes the minimum of the budget to be spent and $B$ denotes the budget, i.e. the amount of money to be used to select a number of assets out of $n$."
   ]
  },
  {
   "cell_type": "markdown",
   "metadata": {},
   "source": [
    "Firstly, the below modules need to be installed. Since this is a financial problem, the `qiskit_finance` module needs to be imported. Furthermore, since solving this problem involves optimizing for the best possible result, the `qiskit_optimization` module needs to be imported as well.\n",
    "\n",
    "Through optimization, three different types of algorithms will be used: NumPyMinimumEigensolver, VQE, and QAOA. The first algorithm, NumPyMinimumEigensolver, is a classical algorithm, where its goal is to search over feasible states and return an eigenstate that has the smallest eigenvalue among feasible states. The second algorithm, VQE, also known as Variational Quantum Eigensolver, uses the variational principle to compute the ground state energy of a Hamiltonian. The last algorithm, QAOA, also known as Quantum Approximate Optimization Algorithm, produces approximate solutions for combinatorial optimization problems.\n",
    "\n",
    "The paper [arXiv:2004.04197: Quantum Approximate Optimization of Non-Planar Graph Problems on a Planar Superconducting Processor](https://arxiv.org/abs/2004.04197) by Google Quantum AI, presented ideas for this project to implement the quantum approximate optimization algorithm (QAOA) on a superconducting qubit quantum processor to combinatorial optimization problems. While it is unclear whether the quantum advantange of QAOA are present, QAOA still prescribes a good and simple paradigm for optimization."
   ]
  },
  {
   "cell_type": "code",
   "execution_count": 1,
   "metadata": {},
   "outputs": [],
   "source": [
    "# Import auxiliary libraries\n",
    "import numpy as np\n",
    "import datetime\n",
    "import matplotlib.pyplot as plt\n",
    "import copy\n",
    "\n",
    "# Import Qiskit\n",
    "from qiskit import IBMQ, Aer, QuantumCircuit\n",
    "from qiskit.algorithms import QAOA, VQE, NumPyMinimumEigensolver\n",
    "from qiskit.algorithms.optimizers import COBYLA\n",
    "from qiskit.circuit import Parameter\n",
    "from qiskit.circuit.library import TwoLocal\n",
    "from qiskit.utils import QuantumInstance, algorithm_globals\n",
    "\n",
    "from qiskit_finance.data_providers import RandomDataProvider, YahooDataProvider\n",
    "from qiskit_finance import QiskitFinanceError\n",
    "\n",
    "from qiskit_optimization import QuadraticProgram\n",
    "from qiskit_optimization.algorithms import MinimumEigenOptimizer, CplexOptimizer\n",
    "from qiskit_optimization.converters import QuadraticProgramToQubo\n",
    "from qiskit_optimization.problems.variable import VarType"
   ]
  },
  {
   "cell_type": "code",
   "execution_count": 2,
   "metadata": {},
   "outputs": [],
   "source": [
    "# For large matricies\n",
    "algorithm_globals.massive = True"
   ]
  },
  {
   "cell_type": "markdown",
   "metadata": {},
   "source": [
    "### Define problem instance\n",
    "\n",
    "To begin, I will use random data to demonstrate key concepts of the portfolio optimization process."
   ]
  },
  {
   "cell_type": "code",
   "execution_count": 3,
   "metadata": {},
   "outputs": [],
   "source": [
    "# set number of assets (= number of qubits)\n",
    "num_assets = 3\n",
    "seed = 123\n",
    "\n",
    "# Generate expected return and covariance matrix from the random time-series\n",
    "stocks = [('TICKER%s' % i) for i in range(num_assets)]\n",
    "data = RandomDataProvider(\n",
    "    tickers=stocks,\n",
    "    start=datetime.datetime(2016, 1, 1),\n",
    "    end=datetime.datetime(2016, 1, 30),\n",
    "    seed=seed\n",
    ")\n",
    "data.run()\n",
    "mu = data.get_period_return_mean_vector()\n",
    "sigma = data.get_period_return_covariance_matrix()"
   ]
  },
  {
   "cell_type": "code",
   "execution_count": 4,
   "metadata": {},
   "outputs": [
    {
     "name": "stdout",
     "output_type": "stream",
     "text": [
      "[ 0.01528439 -0.00078095  0.00051792]\n",
      "[[2.54138859e-03 7.34022167e-05 1.28600531e-04]\n",
      " [7.34022167e-05 2.58486713e-04 5.30427595e-05]\n",
      " [1.28600531e-04 5.30427595e-05 7.91504681e-04]]\n"
     ]
    }
   ],
   "source": [
    "print(mu)\n",
    "print(sigma)"
   ]
  },
  {
   "cell_type": "code",
   "execution_count": 5,
   "metadata": {},
   "outputs": [
    {
     "data": {
      "image/png": "[encoded data removed]",
      "text/plain": [
       "<Figure size 432x288 with 1 Axes>"
      ]
     },
     "metadata": {
      "needs_background": "light"
     },
     "output_type": "display_data"
    }
   ],
   "source": [
    "# plot financial data\n",
    "for (cnt, s) in enumerate(data._tickers):\n",
    "    plt.plot(data._data[cnt], label=s)\n",
    "plt.legend()\n",
    "plt.xticks(rotation=90)\n",
    "plt.xlabel('days')\n",
    "plt.ylabel('stock value')\n",
    "plt.show()"
   ]
  },
  {
   "cell_type": "markdown",
   "metadata": {},
   "source": [
    "#### Covariance Matrix $\\Sigma$\n",
    "The covariance matrix is a statistical measure to compare two asset's mean returns as the vary with respect to each other. It further helps to understand the amount of risk involved from the investment portfolio's perspective to make an informed decision about buying or selling stocks."
   ]
  },
  {
   "cell_type": "code",
   "execution_count": 6,
   "metadata": {},
   "outputs": [
    {
     "data": {
      "image/png": "[encoded data removed]",
      "text/plain": [
       "<Figure size 432x288 with 2 Axes>"
      ]
     },
     "metadata": {
      "needs_background": "light"
     },
     "output_type": "display_data"
    }
   ],
   "source": [
    "# plot sigma\n",
    "plt.imshow(sigma, interpolation=\"nearest\")\n",
    "ticks_list = [0, 1, 2]\n",
    "x_label_list = ['stock2', 'stock1', 'stock0']\n",
    "y_label_list = ['stock2', 'stock1', 'stock0']\n",
    "plt.xticks(ticks_list, x_label_list)\n",
    "plt.yticks(ticks_list, y_label_list)\n",
    "plt.colorbar()\n",
    "plt.clim(-0.0002, 0.001)\n",
    "plt.show()"
   ]
  },
  {
   "cell_type": "code",
   "execution_count": 7,
   "metadata": {},
   "outputs": [],
   "source": [
    "q = 0.5 # set risk factor\n",
    "budget = 750 # set budget in dollars\n",
    "assets = data._tickers # name of assets\n",
    "asset_costs = np.array([data._data[i][-1] for i in range(len(assets) - 1, -1, -1)]) # costs of asset at end of time period\n",
    "share_limit = 3 # max number of shares to buy per stock\n",
    "minimum_spending = 75 # minimum amount of budget to be spent"
   ]
  },
  {
   "cell_type": "markdown",
   "metadata": {},
   "source": [
    "#### Portfolio Quadratic Program\n",
    "To create the problem specified earlier, this function takes in all of the required arguments to convert them into a quadratic program. In addition to $\\mu$ (the expected returns), and $\\Sigma$ (the covariance matrix), the following variables are also taken into account to give a potential investor a high level of flexibility:\n",
    "* Risk Factor – how big of a risk the investor is willing to take.\n",
    "* Budget – the $$$ amount the investor is willing to use to invest in stocks.\n",
    "* Stock Tickers – which stocks (i.e. AAPL, GOOG, TSLA, etc.) the investor would like to invest in.\n",
    "* Minimum Spending – the $$$ amount the investor wants to spend at the minimum when investing.\n",
    "* Share Limit – the maximum number of shares the investor would like to buy per stock ticker.\n",
    "\n",
    "Importantly, since introducing many other factors, along with account for the dollar amounts of each asset, the quadratic program simplifies the budget and asset values based on the asset of least value. Depending on the this value, the budget, minimum spending, and each of the asset costs will be divided by $10^n$, where $n$ is the power-of-10 notation's exponent for the least valued asset."
   ]
  },
  {
   "cell_type": "code",
   "execution_count": 8,
   "metadata": {},
   "outputs": [],
   "source": [
    "def portfolio_quadratic_program(expected_returns: np.ndarray or list, covariances: np.ndarray or list, risk_factor: int or float, budget: int or float, assets: np.ndarray or list, \\\n",
    "                                asset_costs: np.ndarray or list, share_limit: int = 1, minimum_spending: int or float = 0):\n",
    "    assert type(expected_returns) == np.ndarray or list, 'expected_returns must be numpy.ndarray or list'\n",
    "    assert type(covariances) == np.ndarray or list, 'covariances must be numpy.ndarray or list'\n",
    "    assert type(risk_factor) == int or float, 'risk_factor must be int or float'\n",
    "    assert type(budget) == int or float, 'budget must be int or float'\n",
    "    assert type(assets) == np.ndarray or list, 'assets must be numpy.ndarray or list'\n",
    "    assert type(asset_costs) == np.ndarray or list, 'asset_costs must be numpy.ndarray or list'\n",
    "    assert type(share_limit) == int, 'share_limit must be int'\n",
    "    assert type(minimum_spending) == int or float, 'minimum_spending must be int or float'\n",
    "    \n",
    "    # Simplify the floats to decrease the number of qubits while still maintaining an accurate result\n",
    "    least_expense_asset = np.min(asset_costs)\n",
    "    cost_simplifier = 1\n",
    "    if least_expense_asset >= 10:\n",
    "        cost_simplifier_i = 1\n",
    "        while least_expense_asset // (10 ** cost_simplifier_i) != 0:\n",
    "            cost_simplifier_i += 1\n",
    "        cost_simplifier = 10 ** (cost_simplifier_i - 1)\n",
    "\n",
    "    quad_budget = budget // cost_simplifier\n",
    "    quad_minimum_spending = minimum_spending // cost_simplifier\n",
    "    quad_asset_costs = np.array([ac // cost_simplifier for ac in asset_costs])\n",
    "\n",
    "    portfolio = QuadraticProgram(name='Portfolio')\n",
    "\n",
    "    portfolio.integer_var_dict(keys=assets, lowerbound=0, upperbound=share_limit)\n",
    "    portfolio.minimize(\n",
    "        linear=expected_returns,\n",
    "        quadratic=covariances * risk_factor\n",
    "    )\n",
    "    portfolio.linear_constraint(linear=quad_asset_costs, sense='<', rhs=quad_budget)\n",
    "    if minimum_spending > 0:\n",
    "        portfolio.linear_constraint(linear=quad_asset_costs, sense='>', rhs=quad_minimum_spending)\n",
    "\n",
    "    return portfolio"
   ]
  },
  {
   "cell_type": "code",
   "execution_count": 9,
   "metadata": {},
   "outputs": [
    {
     "data": {
      "text/plain": [
       "\\ This file has been generated by DOcplex\n",
       "\\ ENCODING=ISO-8859-1\n",
       "\\Problem name: Portfolio\n",
       "\n",
       "Minimize\n",
       " obj: 0.015284386652 xTICKER0 - 0.000780952145 xTICKER1\n",
       "      + 0.000517920547 xTICKER2 + [ 0.002541388592 xTICKER0^2\n",
       "      + 0.000146804433 xTICKER0*xTICKER1 + 0.000257201062 xTICKER0*xTICKER2\n",
       "      + 0.000258486713 xTICKER1^2 + 0.000106085519 xTICKER1*xTICKER2\n",
       "      + 0.000791504681 xTICKER2^2 ]/2\n",
       "Subject To\n",
       " c0: 3 xTICKER0 + 6 xTICKER1 + 2 xTICKER2 <= 75\n",
       " c1: 3 xTICKER0 + 6 xTICKER1 + 2 xTICKER2 >= 7\n",
       "\n",
       "Bounds\n",
       "       xTICKER0 <= 3\n",
       "       xTICKER1 <= 3\n",
       "       xTICKER2 <= 3\n",
       "\n",
       "Generals\n",
       " xTICKER0 xTICKER1 xTICKER2\n",
       "End"
      ]
     },
     "execution_count": 9,
     "metadata": {},
     "output_type": "execute_result"
    }
   ],
   "source": [
    "qp = portfolio_quadratic_program(\n",
    "    expected_returns=mu,\n",
    "    covariances=sigma,\n",
    "    risk_factor=q,\n",
    "    budget=budget,\n",
    "    assets=assets,\n",
    "    asset_costs=asset_costs,\n",
    "    share_limit=share_limit,\n",
    "    minimum_spending=minimum_spending\n",
    ")\n",
    "qp"
   ]
  },
  {
   "cell_type": "code",
   "execution_count": 10,
   "metadata": {},
   "outputs": [
    {
     "data": {
      "text/plain": [
       "\\ This file has been generated by DOcplex\n",
       "\\ ENCODING=ISO-8859-1\n",
       "\\Problem name: Portfolio\n",
       "\n",
       "Minimize\n",
       " obj: - 525.542263199492 xTICKER0@0 - 1051.084526398984 xTICKER0@1\n",
       "      - 1051.115876124432 xTICKER1@0 - 2102.231752248864 xTICKER1@1\n",
       "      - 350.371180470216 xTICKER2@0 - 700.742360940431 xTICKER2@1\n",
       "      - 160.230959629922 c0@int_slack@0 - 320.461919259844 c0@int_slack@1\n",
       "      - 640.923838519687 c0@int_slack@2 - 1281.847677039375 c0@int_slack@3\n",
       "      - 2563.695354078749 c0@int_slack@4 - 5127.390708157498 c0@int_slack@5\n",
       "      - 1922.771515559062 c0@int_slack@6 + 14.954889565459 c1@int_slack@0\n",
       "      + 29.909779130919 c1@int_slack@1 + 59.819558261837 c1@int_slack@2\n",
       "      + 119.639116523675 c1@int_slack@3 + 164.503785220053 c1@int_slack@4 + [\n",
       "      38.457971699773 xTICKER0@0^2 + 153.831886799093 xTICKER0@0*xTICKER0@1\n",
       "      + 153.821868049158 xTICKER0@0*xTICKER1@0\n",
       "      + 307.643736098317 xTICKER0@0*xTICKER1@1\n",
       "      + 51.274164282637 xTICKER0@0*xTICKER2@0\n",
       "      + 102.548328565273 xTICKER0@0*xTICKER2@1\n",
       "      + 12.818476770394 xTICKER0@0*c0@int_slack@0\n",
       "      + 25.636953540787 xTICKER0@0*c0@int_slack@1\n",
       "      + 51.273907081575 xTICKER0@0*c0@int_slack@2\n",
       "      + 102.547814163150 xTICKER0@0*c0@int_slack@3\n",
       "      + 205.095628326300 xTICKER0@0*c0@int_slack@4\n",
       "      + 410.191256652600 xTICKER0@0*c0@int_slack@5\n",
       "      + 153.821721244725 xTICKER0@0*c0@int_slack@6\n",
       "      - 12.818476770394 xTICKER0@0*c1@int_slack@0\n",
       "      - 25.636953540787 xTICKER0@0*c1@int_slack@1\n",
       "      - 51.273907081575 xTICKER0@0*c1@int_slack@2\n",
       "      - 102.547814163150 xTICKER0@0*c1@int_slack@3\n",
       "      - 141.003244474331 xTICKER0@0*c1@int_slack@4\n",
       "      + 153.831886799093 xTICKER0@1^2 + 307.643736098317 xTICKER0@1*xTICKER1@0\n",
       "      + 615.287472196633 xTICKER0@1*xTICKER1@1\n",
       "      + 102.548328565273 xTICKER0@1*xTICKER2@0\n",
       "      + 205.096657130547 xTICKER0@1*xTICKER2@1\n",
       "      + 25.636953540787 xTICKER0@1*c0@int_slack@0\n",
       "      + 51.273907081575 xTICKER0@1*c0@int_slack@1\n",
       "      + 102.547814163150 xTICKER0@1*c0@int_slack@2\n",
       "      + 205.095628326300 xTICKER0@1*c0@int_slack@3\n",
       "      + 410.191256652600 xTICKER0@1*c0@int_slack@4\n",
       "      + 820.382513305200 xTICKER0@1*c0@int_slack@5\n",
       "      + 307.643442489450 xTICKER0@1*c0@int_slack@6\n",
       "      - 25.636953540787 xTICKER0@1*c1@int_slack@0\n",
       "      - 51.273907081575 xTICKER0@1*c1@int_slack@1\n",
       "      - 102.547814163150 xTICKER0@1*c1@int_slack@2\n",
       "      - 205.095628326300 xTICKER0@1*c1@int_slack@3\n",
       "      - 282.006488948662 xTICKER0@1*c1@int_slack@4\n",
       "      + 153.821979731438 xTICKER1@0^2 + 615.287918925752 xTICKER1@0*xTICKER1@1\n",
       "      + 102.547920248669 xTICKER1@0*xTICKER2@0\n",
       "      + 205.095840497338 xTICKER1@0*xTICKER2@1\n",
       "      + 25.636953540787 xTICKER1@0*c0@int_slack@0\n",
       "      + 51.273907081575 xTICKER1@0*c0@int_slack@1\n",
       "      + 102.547814163150 xTICKER1@0*c0@int_slack@2\n",
       "      + 205.095628326300 xTICKER1@0*c0@int_slack@3\n",
       "      + 410.191256652600 xTICKER1@0*c0@int_slack@4\n",
       "      + 820.382513305200 xTICKER1@0*c0@int_slack@5\n",
       "      + 307.643442489450 xTICKER1@0*c0@int_slack@6\n",
       "      - 25.636953540787 xTICKER1@0*c1@int_slack@0\n",
       "      - 51.273907081575 xTICKER1@0*c1@int_slack@1\n",
       "      - 102.547814163150 xTICKER1@0*c1@int_slack@2\n",
       "      - 205.095628326300 xTICKER1@0*c1@int_slack@3\n",
       "      - 282.006488948662 xTICKER1@0*c1@int_slack@4\n",
       "      + 615.287918925752 xTICKER1@1^2 + 205.095840497338 xTICKER1@1*xTICKER2@0\n",
       "      + 410.191680994676 xTICKER1@1*xTICKER2@1\n",
       "      + 51.273907081575 xTICKER1@1*c0@int_slack@0\n",
       "      + 102.547814163150 xTICKER1@1*c0@int_slack@1\n",
       "      + 205.095628326300 xTICKER1@1*c0@int_slack@2\n",
       "      + 410.191256652600 xTICKER1@1*c0@int_slack@3\n",
       "      + 820.382513305200 xTICKER1@1*c0@int_slack@4\n",
       "      + 1640.765026610399 xTICKER1@1*c0@int_slack@5\n",
       "      + 615.286884978900 xTICKER1@1*c0@int_slack@6\n",
       "      - 51.273907081575 xTICKER1@1*c1@int_slack@0\n",
       "      - 102.547814163150 xTICKER1@1*c1@int_slack@1\n",
       "      - 205.095628326300 xTICKER1@1*c1@int_slack@2\n",
       "      - 410.191256652600 xTICKER1@1*c1@int_slack@3\n",
       "      - 564.012977897325 xTICKER1@1*c1@int_slack@4\n",
       "      + 17.092093865206 xTICKER2@0^2 + 68.368375460825 xTICKER2@0*xTICKER2@1\n",
       "      + 8.545651180262 xTICKER2@0*c0@int_slack@0\n",
       "      + 17.091302360525 xTICKER2@0*c0@int_slack@1\n",
       "      + 34.182604721050 xTICKER2@0*c0@int_slack@2\n",
       "      + 68.365209442100 xTICKER2@0*c0@int_slack@3\n",
       "      + 136.730418884200 xTICKER2@0*c0@int_slack@4\n",
       "      + 273.460837768400 xTICKER2@0*c0@int_slack@5\n",
       "      + 102.547814163150 xTICKER2@0*c0@int_slack@6\n",
       "      - 8.545651180262 xTICKER2@0*c1@int_slack@0\n",
       "      - 17.091302360525 xTICKER2@0*c1@int_slack@1\n",
       "      - 34.182604721050 xTICKER2@0*c1@int_slack@2\n",
       "      - 68.365209442100 xTICKER2@0*c1@int_slack@3\n",
       "      - 94.002162982887 xTICKER2@0*c1@int_slack@4 + 68.368375460825 xTICKER2@1^2\n",
       "      + 17.091302360525 xTICKER2@1*c0@int_slack@0\n",
       "      + 34.182604721050 xTICKER2@1*c0@int_slack@1\n",
       "      + 68.365209442100 xTICKER2@1*c0@int_slack@2\n",
       "      + 136.730418884200 xTICKER2@1*c0@int_slack@3\n",
       "      + 273.460837768400 xTICKER2@1*c0@int_slack@4\n",
       "      + 546.921675536800 xTICKER2@1*c0@int_slack@5\n",
       "      + 205.095628326300 xTICKER2@1*c0@int_slack@6\n",
       "      - 17.091302360525 xTICKER2@1*c1@int_slack@0\n",
       "      - 34.182604721050 xTICKER2@1*c1@int_slack@1\n",
       "      - 68.365209442100 xTICKER2@1*c1@int_slack@2\n",
       "      - 136.730418884200 xTICKER2@1*c1@int_slack@3\n",
       "      - 188.004325965775 xTICKER2@1*c1@int_slack@4\n",
       "      + 2.136412795066 c0@int_slack@0^2\n",
       "      + 8.545651180262 c0@int_slack@0*c0@int_slack@1\n",
       "      + 17.091302360525 c0@int_slack@0*c0@int_slack@2\n",
       "      + 34.182604721050 c0@int_slack@0*c0@int_slack@3\n",
       "      + 68.365209442100 c0@int_slack@0*c0@int_slack@4\n",
       "      + 136.730418884200 c0@int_slack@0*c0@int_slack@5\n",
       "      + 51.273907081575 c0@int_slack@0*c0@int_slack@6\n",
       "      + 8.545651180262 c0@int_slack@1^2\n",
       "      + 34.182604721050 c0@int_slack@1*c0@int_slack@2\n",
       "      + 68.365209442100 c0@int_slack@1*c0@int_slack@3\n",
       "      + 136.730418884200 c0@int_slack@1*c0@int_slack@4\n",
       "      + 273.460837768400 c0@int_slack@1*c0@int_slack@5\n",
       "      + 102.547814163150 c0@int_slack@1*c0@int_slack@6\n",
       "      + 34.182604721050 c0@int_slack@2^2\n",
       "      + 136.730418884200 c0@int_slack@2*c0@int_slack@3\n",
       "      + 273.460837768400 c0@int_slack@2*c0@int_slack@4\n",
       "      + 546.921675536800 c0@int_slack@2*c0@int_slack@5\n",
       "      + 205.095628326300 c0@int_slack@2*c0@int_slack@6\n",
       "      + 136.730418884200 c0@int_slack@3^2\n",
       "      + 546.921675536800 c0@int_slack@3*c0@int_slack@4\n",
       "      + 1093.843351073599 c0@int_slack@3*c0@int_slack@5\n",
       "      + 410.191256652600 c0@int_slack@3*c0@int_slack@6\n",
       "      + 546.921675536800 c0@int_slack@4^2\n",
       "      + 2187.686702147199 c0@int_slack@4*c0@int_slack@5\n",
       "      + 820.382513305200 c0@int_slack@4*c0@int_slack@6\n",
       "      + 2187.686702147199 c0@int_slack@5^2\n",
       "      + 1640.765026610399 c0@int_slack@5*c0@int_slack@6\n",
       "      + 307.643442489450 c0@int_slack@6^2 + 2.136412795066 c1@int_slack@0^2\n",
       "      + 8.545651180262 c1@int_slack@0*c1@int_slack@1\n",
       "      + 17.091302360525 c1@int_slack@0*c1@int_slack@2\n",
       "      + 34.182604721050 c1@int_slack@0*c1@int_slack@3\n",
       "      + 47.001081491444 c1@int_slack@0*c1@int_slack@4\n",
       "      + 8.545651180262 c1@int_slack@1^2\n",
       "      + 34.182604721050 c1@int_slack@1*c1@int_slack@2\n",
       "      + 68.365209442100 c1@int_slack@1*c1@int_slack@3\n",
       "      + 94.002162982887 c1@int_slack@1*c1@int_slack@4\n",
       "      + 34.182604721050 c1@int_slack@2^2\n",
       "      + 136.730418884200 c1@int_slack@2*c1@int_slack@3\n",
       "      + 188.004325965775 c1@int_slack@2*c1@int_slack@4\n",
       "      + 136.730418884200 c1@int_slack@3^2\n",
       "      + 376.008651931550 c1@int_slack@3*c1@int_slack@4\n",
       "      + 258.505948202940 c1@int_slack@4^2 ]/2 + 6061.003099601176\n",
       "Subject To\n",
       "\n",
       "Bounds\n",
       " 0 <= xTICKER0@0 <= 1\n",
       " 0 <= xTICKER0@1 <= 1\n",
       " 0 <= xTICKER1@0 <= 1\n",
       " 0 <= xTICKER1@1 <= 1\n",
       " 0 <= xTICKER2@0 <= 1\n",
       " 0 <= xTICKER2@1 <= 1\n",
       " 0 <= c0@int_slack@0 <= 1\n",
       " 0 <= c0@int_slack@1 <= 1\n",
       " 0 <= c0@int_slack@2 <= 1\n",
       " 0 <= c0@int_slack@3 <= 1\n",
       " 0 <= c0@int_slack@4 <= 1\n",
       " 0 <= c0@int_slack@5 <= 1\n",
       " 0 <= c0@int_slack@6 <= 1\n",
       " 0 <= c1@int_slack@0 <= 1\n",
       " 0 <= c1@int_slack@1 <= 1\n",
       " 0 <= c1@int_slack@2 <= 1\n",
       " 0 <= c1@int_slack@3 <= 1\n",
       " 0 <= c1@int_slack@4 <= 1\n",
       "\n",
       "Binaries\n",
       " xTICKER0@0 xTICKER0@1 xTICKER1@0 xTICKER1@1 xTICKER2@0 xTICKER2@1\n",
       " c0@int_slack@0 c0@int_slack@1 c0@int_slack@2 c0@int_slack@3 c0@int_slack@4\n",
       " c0@int_slack@5 c0@int_slack@6 c1@int_slack@0 c1@int_slack@1 c1@int_slack@2\n",
       " c1@int_slack@3 c1@int_slack@4\n",
       "End"
      ]
     },
     "execution_count": 10,
     "metadata": {},
     "output_type": "execute_result"
    }
   ],
   "source": [
    "qubo = QuadraticProgramToQubo().convert(qp)\n",
    "qubo"
   ]
  },
  {
   "cell_type": "markdown",
   "metadata": {},
   "source": [
    "#### Convert Quadratic Program\n",
    "To estimate how many qubits the quadratic program will require, it can be converted to an Ising Model. This is a very crucial step because the number of computational power needed increases exponentially with every additional qubit on a classical machine. To combat this, I check the number of required qubits in the circuit and minimize it to be able to simulate the circuit in a reasonable amount of time."
   ]
  },
  {
   "cell_type": "code",
   "execution_count": 11,
   "metadata": {},
   "outputs": [
    {
     "name": "stdout",
     "output_type": "stream",
     "text": [
      "Number of qubits required is 18.\n"
     ]
    }
   ],
   "source": [
    "ising_operations, _ = (\n",
    "    qubo\n",
    "    .to_ising()\n",
    ")\n",
    "num_qubits = ising_operations.num_qubits\n",
    "print(f'Number of qubits required is {ising_operations.num_qubits}.')"
   ]
  },
  {
   "cell_type": "markdown",
   "metadata": {},
   "source": [
    "#### Helper Functions\n",
    "The first function is to convert the result from solving a QUBO, or Quadratic Unconstrained Binary Optimization, into a more readable format. The following two result printer functions display the final results as number of shares and the amount of budget used to purchase the specified shares."
   ]
  },
  {
   "cell_type": "code",
   "execution_count": 12,
   "metadata": {},
   "outputs": [],
   "source": [
    "def convert_qubo_result(result, names, share_limit):\n",
    "    converted_result = {}\n",
    "    share_lim_binary = len(np.binary_repr(share_limit))\n",
    "    result_x = np.round(result.x)\n",
    "    for i, e in enumerate(names):\n",
    "        result_i = list(reversed(result_x[i*share_lim_binary:(i+1)*share_lim_binary]))\n",
    "        result_i = [str(int(e_ij)) for e_ij in result_i]\n",
    "        result_i = ''.join(result_i)\n",
    "        converted_result[e] = int(result_i, 2)\n",
    "    return converted_result \n",
    "\n",
    "def print_result(result, budget, qp: QuadraticProgram, asset_costs: np.ndarray):\n",
    "    print(f'Solution found with a ${budget:,.2f} budget:\\n')\n",
    "    total_cost = np.dot(result.x, asset_costs.T)\n",
    "    print(f'Total cost of assets to buy is ${total_cost:,.2f}')\n",
    "    print(f'Stocks to buy are: ')\n",
    "    _stocks = [v.name for v in qp.variables]\n",
    "    for stockIndex, stockShares in enumerate(result.x):\n",
    "        print(f'\\t{stockShares} shares of {_stocks[stockIndex]} at ${asset_costs[stockIndex]:,.2f} per share')\n",
    "\n",
    "def print_converted_result(converted_result, budget, asset_costs):\n",
    "    print(f'Solution found with a ${budget:,.2f} budget:\\n')\n",
    "    result_x = np.array(list(converted_result.values()))\n",
    "    total_cost = np.dot(result_x, asset_costs.T)\n",
    "    print(f'Total cost of assets to buy is ${total_cost:,.2f}')\n",
    "    print(f'Stocks to buy are: ')\n",
    "    _stocks = list(converted_result.keys())\n",
    "    for stockIndex, stockShares in enumerate(result_x):\n",
    "        print(f'\\t{stockShares} shares of {_stocks[stockIndex]} at ${asset_costs[stockIndex]:,.2f} per share')"
   ]
  },
  {
   "cell_type": "markdown",
   "metadata": {},
   "source": [
    "#### Classical Simulation\n",
    "This first problem on random data is solved using the Numpy Minimum Eigensolver algorithm. Using this solver coupled with the Minimum Eigen Optimizer solves the problem specified earlier classically."
   ]
  },
  {
   "cell_type": "code",
   "execution_count": 13,
   "metadata": {},
   "outputs": [
    {
     "data": {
      "text/plain": [
       "optimal function value: -0.0011796662265624036\n",
       "optimal value: [0. 0. 1. 1. 0. 0. 1. 0. 1. 1. 0. 1. 1. 0. 0. 0. 0. 1.]\n",
       "status: SUCCESS"
      ]
     },
     "execution_count": 13,
     "metadata": {},
     "output_type": "execute_result"
    }
   ],
   "source": [
    "exact_mes = NumPyMinimumEigensolver()\n",
    "exact_eigensolver = MinimumEigenOptimizer(exact_mes)\n",
    "\n",
    "result = exact_eigensolver.solve(qubo)\n",
    "result"
   ]
  },
  {
   "cell_type": "code",
   "execution_count": 14,
   "metadata": {},
   "outputs": [
    {
     "name": "stdout",
     "output_type": "stream",
     "text": [
      "Solution found with a $750.00 budget:\n",
      "\n",
      "Total cost of assets to buy is $183.21\n",
      "Stocks to buy are: \n",
      "\t0 shares of stock1 at $30.10 per share\n",
      "\t3 shares of stock2 at $61.07 per share\n",
      "\t0 shares of stock3 at $23.66 per share\n"
     ]
    }
   ],
   "source": [
    "converted_result = convert_qubo_result(result, ['stock1', 'stock2', 'stock3'], share_limit)\n",
    "print_converted_result(converted_result, budget, asset_costs)"
   ]
  },
  {
   "cell_type": "markdown",
   "metadata": {},
   "source": [
    "### Solution using VQE\n",
    "The below solution is using the Variational Quantum Eigensolver. However, since the circuit takes a very long time to simulate, the output will not be shown. Please continue reading to see its later implementation."
   ]
  },
  {
   "cell_type": "code",
   "execution_count": 15,
   "metadata": {},
   "outputs": [],
   "source": [
    "# algorithm_globals.random_seed = 1234\n",
    "# backend = Aer.get_backend('qasm_simulator')\n",
    "\n",
    "# cobyla = COBYLA()\n",
    "# cobyla.set_options(maxiter=200)\n",
    "# ry = TwoLocal(num_qubits=num_qubits, rotation_blocks='ry', entanglement_blocks='cz', reps=1, entanglement='full')\n",
    "# qi = QuantumInstance(backend=backend, seed_simulator=seed, seed_transpiler=seed)\n",
    "# vqe_mes = VQE(ry, optimizer=cobyla, quantum_instance=qi)\n",
    "# vqe = MinimumEigenOptimizer(vqe_mes)\n",
    "# vqe_result = vqe.solve(qp)"
   ]
  },
  {
   "cell_type": "markdown",
   "metadata": {},
   "source": [
    "#### Solution using QAOA\n",
    "The below solution is using the Quantum Approximate Optimization Algorithm. The below solution is using the Variational Quantum Eigensolver. However, since the circuit takes a very long time to simulate, the output will not be shown. Please continue reading to see its later implementation."
   ]
  },
  {
   "cell_type": "code",
   "execution_count": 16,
   "metadata": {},
   "outputs": [],
   "source": [
    "# algorithm_globals.random_seed = 1234\n",
    "# backend = Aer.get_backend('qasm_simulator')\n",
    "\n",
    "# cobyla = COBYLA()\n",
    "# cobyla.set_options(maxiter=200)\n",
    "# qi = QuantumInstance(backend=backend, seed_simulator=seed, seed_transpiler=seed)\n",
    "# qaoa_mes = QAOA(optimizer=cobyla, reps=1, quantum_instance=qi)\n",
    "# qaoa = MinimumEigenOptimizer(qaoa_mes)\n",
    "# qaoa_result = qaoa.solve(qp)"
   ]
  },
  {
   "cell_type": "markdown",
   "metadata": {},
   "source": [
    "## Testing on real data\n",
    "Using the data from Yahoo Finance, this method can be tested to see how well it might do practically."
   ]
  },
  {
   "cell_type": "code",
   "execution_count": 17,
   "metadata": {},
   "outputs": [
    {
     "data": {
      "image/png": "[encoded data removed]",
      "text/plain": [
       "<Figure size 432x288 with 1 Axes>"
      ]
     },
     "metadata": {
      "needs_background": "light"
     },
     "output_type": "display_data"
    }
   ],
   "source": [
    "stock_tickers = ['AAPL', 'SPOT', 'MSFT']\n",
    "data = None\n",
    "try:\n",
    "    data = YahooDataProvider(\n",
    "        tickers=stock_tickers,\n",
    "        start=datetime.datetime(2021, 2, 24),\n",
    "        end=datetime.datetime(2022, 2, 24)\n",
    "    )\n",
    "    data.run()\n",
    "    for (cnt, s) in enumerate(data._tickers):\n",
    "        plt.plot(data._data[cnt], label=s)\n",
    "    plt.legend(loc=\"upper center\", bbox_to_anchor=(0.5, 1.1), ncol=3)\n",
    "    plt.xticks(rotation=90)\n",
    "    plt.show()\n",
    "except QiskitFinanceError as ex:\n",
    "    data = None\n",
    "    print(ex)"
   ]
  },
  {
   "cell_type": "code",
   "execution_count": 18,
   "metadata": {},
   "outputs": [
    {
     "data": {
      "image/png": "[encoded data removed]",
      "text/plain": [
       "<Figure size 432x288 with 2 Axes>"
      ]
     },
     "metadata": {
      "needs_background": "light"
     },
     "output_type": "display_data"
    }
   ],
   "source": [
    "mu = data.get_period_return_mean_vector()\n",
    "sigma = data.get_period_return_covariance_matrix()\n",
    "\n",
    "# plot sigma\n",
    "plt.imshow(sigma, interpolation=\"nearest\")\n",
    "ticks_list = [0, 1, 2]\n",
    "x_label_list = stock_tickers\n",
    "y_label_list = stock_tickers\n",
    "plt.xticks(ticks_list, x_label_list)\n",
    "plt.yticks(ticks_list, y_label_list)\n",
    "plt.colorbar()\n",
    "plt.clim(-0.0002, 0.001)\n",
    "plt.show()"
   ]
  },
  {
   "cell_type": "code",
   "execution_count": 19,
   "metadata": {},
   "outputs": [],
   "source": [
    "q = 0.5 # set risk factor\n",
    "budget = 750 # set budget in dollars\n",
    "assets = data._tickers # name of assets\n",
    "asset_costs = np.array([data._data[i][-1] for i in range(len(assets) - 1, -1, -1)]) # costs of asset at end of time period\n",
    "share_limit = 2 # max number of shares to buy per stock\n",
    "minimum_spending = 500 # minimum amount of budget to be spent"
   ]
  },
  {
   "cell_type": "code",
   "execution_count": 20,
   "metadata": {},
   "outputs": [
    {
     "data": {
      "text/plain": [
       "\\ This file has been generated by DOcplex\n",
       "\\ ENCODING=ISO-8859-1\n",
       "\\Problem name: Portfolio\n",
       "\n",
       "Minimize\n",
       " obj: 0.001118223807 xAAPL - 0.002818408323 xSPOT + 0.000838751803 xMSFT + [\n",
       "      0.000249827641 xAAPL^2 + 0.000425622789 xAAPL*xSPOT\n",
       "      + 0.000315640009 xAAPL*xMSFT + 0.001028629977 xSPOT^2\n",
       "      + 0.000429502598 xSPOT*xMSFT + 0.000199558183 xMSFT^2 ]/2\n",
       "Subject To\n",
       " c0: 2 xAAPL + xSPOT + xMSFT <= 7\n",
       " c1: 2 xAAPL + xSPOT + xMSFT >= 5\n",
       "\n",
       "Bounds\n",
       "       xAAPL <= 2\n",
       "       xSPOT <= 2\n",
       "       xMSFT <= 2\n",
       "\n",
       "Generals\n",
       " xAAPL xSPOT xMSFT\n",
       "End"
      ]
     },
     "execution_count": 20,
     "metadata": {},
     "output_type": "execute_result"
    }
   ],
   "source": [
    "qp = portfolio_quadratic_program(\n",
    "    expected_returns=mu,\n",
    "    covariances=sigma,\n",
    "    risk_factor=q,\n",
    "    budget=budget,\n",
    "    assets=stock_tickers,\n",
    "    asset_costs=asset_costs,\n",
    "    share_limit=share_limit,\n",
    "    minimum_spending=minimum_spending\n",
    ")\n",
    "qp"
   ]
  },
  {
   "cell_type": "code",
   "execution_count": 21,
   "metadata": {},
   "outputs": [],
   "source": [
    "qubo = QuadraticProgramToQubo().convert(qp)"
   ]
  },
  {
   "cell_type": "code",
   "execution_count": 22,
   "metadata": {},
   "outputs": [
    {
     "name": "stdout",
     "output_type": "stream",
     "text": [
      "Number of qubits required is 11.\n"
     ]
    }
   ],
   "source": [
    "ising_operations, _ = (\n",
    "    qubo\n",
    "    .to_ising()\n",
    ")\n",
    "num_qubits = ising_operations.num_qubits\n",
    "print(f'Number of qubits required is {ising_operations.num_qubits}.')"
   ]
  },
  {
   "cell_type": "code",
   "execution_count": 23,
   "metadata": {},
   "outputs": [],
   "source": [
    "exact_mes = NumPyMinimumEigensolver()\n",
    "exact_eigensolver = MinimumEigenOptimizer(exact_mes)\n",
    "\n",
    "result = exact_eigensolver.solve(qubo)"
   ]
  },
  {
   "cell_type": "code",
   "execution_count": 24,
   "metadata": {},
   "outputs": [],
   "source": [
    "converted_result = convert_qubo_result(result, stock_tickers, share_limit)"
   ]
  },
  {
   "cell_type": "code",
   "execution_count": 25,
   "metadata": {},
   "outputs": [
    {
     "name": "stdout",
     "output_type": "stream",
     "text": [
      "Solution found with a $750.00 budget:\n",
      "\n",
      "Total cost of assets to buy is $1,313.19\n",
      "Stocks to buy are: \n",
      "\t2 shares of AAPL at $280.27 per share\n",
      "\t3 shares of SPOT at $144.17 per share\n",
      "\t2 shares of MSFT at $160.07 per share\n"
     ]
    }
   ],
   "source": [
    "print_converted_result(converted_result, budget, asset_costs)"
   ]
  },
  {
   "cell_type": "markdown",
   "metadata": {},
   "source": [
    "### Solution with continuous relaxation\n",
    "Continuous-valued relaxation can be used to initialize quantum-classical hybrid algorithms. This is also known as warm-starting them. However, more on this later. The purpose of this function below is to convert the variables to be continuous instead of binary so then they can be leverged for warm-start quantum optimization algorithms."
   ]
  },
  {
   "cell_type": "code",
   "execution_count": 26,
   "metadata": {},
   "outputs": [],
   "source": [
    "def relax_problem(qp: QuadraticProgram) -> QuadraticProgram:\n",
    "    '''Change all variables to continuous'''\n",
    "    relaxed_problem = copy.deepcopy(qp)\n",
    "    for variable in relaxed_problem.variables:\n",
    "        variable.vartype = VarType.CONTINUOUS\n",
    "\n",
    "    return relaxed_problem"
   ]
  },
  {
   "cell_type": "code",
   "execution_count": 27,
   "metadata": {},
   "outputs": [
    {
     "data": {
      "text/plain": [
       "\\ This file has been generated by DOcplex\n",
       "\\ ENCODING=ISO-8859-1\n",
       "\\Problem name: Portfolio\n",
       "\n",
       "Minimize\n",
       " obj: - 48.711601628890 xAAPL@0 - 48.711601628890 xAAPL@1\n",
       "      - 24.359178334672 xSPOT@0 - 24.359178334672 xSPOT@1\n",
       "      - 24.355521174545 xMSFT@0 - 24.355521174545 xMSFT@1\n",
       "      - 14.207876623703 c0@int_slack@0 - 28.415753247407 c0@int_slack@1\n",
       "      - 56.831506494813 c0@int_slack@2 + 10.148483302645 c1@int_slack@0\n",
       "      + 20.296966605290 c1@int_slack@1 + [ 16.237823111873 xAAPL@0^2\n",
       "      + 32.475646223747 xAAPL@0*xAAPL@1 + 16.237998907022 xAAPL@0*xSPOT@0\n",
       "      + 16.237998907022 xAAPL@0*xSPOT@1 + 16.237888924241 xAAPL@0*xMSFT@0\n",
       "      + 16.237888924241 xAAPL@0*xMSFT@1 + 8.118786642116 xAAPL@0*c0@int_slack@0\n",
       "      + 16.237573284232 xAAPL@0*c0@int_slack@1\n",
       "      + 32.475146568465 xAAPL@0*c0@int_slack@2\n",
       "      - 8.118786642116 xAAPL@0*c1@int_slack@0\n",
       "      - 16.237573284232 xAAPL@0*c1@int_slack@1 + 16.237823111873 xAAPL@1^2\n",
       "      + 16.237998907022 xAAPL@1*xSPOT@0 + 16.237998907022 xAAPL@1*xSPOT@1\n",
       "      + 16.237888924241 xAAPL@1*xMSFT@0 + 16.237888924241 xAAPL@1*xMSFT@1\n",
       "      + 8.118786642116 xAAPL@1*c0@int_slack@0\n",
       "      + 16.237573284232 xAAPL@1*c0@int_slack@1\n",
       "      + 32.475146568465 xAAPL@1*c0@int_slack@2\n",
       "      - 8.118786642116 xAAPL@1*c1@int_slack@0\n",
       "      - 16.237573284232 xAAPL@1*c1@int_slack@1 + 4.060421951035 xSPOT@0^2\n",
       "      + 8.120843902071 xSPOT@0*xSPOT@1 + 8.119216144715 xSPOT@0*xMSFT@0\n",
       "      + 8.119216144715 xSPOT@0*xMSFT@1 + 4.059393321058 xSPOT@0*c0@int_slack@0\n",
       "      + 8.118786642116 xSPOT@0*c0@int_slack@1\n",
       "      + 16.237573284232 xSPOT@0*c0@int_slack@2\n",
       "      - 4.059393321058 xSPOT@0*c1@int_slack@0\n",
       "      - 8.118786642116 xSPOT@0*c1@int_slack@1 + 4.060421951035 xSPOT@1^2\n",
       "      + 8.119216144715 xSPOT@1*xMSFT@0 + 8.119216144715 xSPOT@1*xMSFT@1\n",
       "      + 4.059393321058 xSPOT@1*c0@int_slack@0\n",
       "      + 8.118786642116 xSPOT@1*c0@int_slack@1\n",
       "      + 16.237573284232 xSPOT@1*c0@int_slack@2\n",
       "      - 4.059393321058 xSPOT@1*c1@int_slack@0\n",
       "      - 8.118786642116 xSPOT@1*c1@int_slack@1 + 4.059592879242 xMSFT@0^2\n",
       "      + 8.119185758483 xMSFT@0*xMSFT@1 + 4.059393321058 xMSFT@0*c0@int_slack@0\n",
       "      + 8.118786642116 xMSFT@0*c0@int_slack@1\n",
       "      + 16.237573284232 xMSFT@0*c0@int_slack@2\n",
       "      - 4.059393321058 xMSFT@0*c1@int_slack@0\n",
       "      - 8.118786642116 xMSFT@0*c1@int_slack@1 + 4.059592879242 xMSFT@1^2\n",
       "      + 4.059393321058 xMSFT@1*c0@int_slack@0\n",
       "      + 8.118786642116 xMSFT@1*c0@int_slack@1\n",
       "      + 16.237573284232 xMSFT@1*c0@int_slack@2\n",
       "      - 4.059393321058 xMSFT@1*c1@int_slack@0\n",
       "      - 8.118786642116 xMSFT@1*c1@int_slack@1 + 2.029696660529 c0@int_slack@0^2\n",
       "      + 8.118786642116 c0@int_slack@0*c0@int_slack@1\n",
       "      + 16.237573284232 c0@int_slack@0*c0@int_slack@2\n",
       "      + 8.118786642116 c0@int_slack@1^2\n",
       "      + 32.475146568465 c0@int_slack@1*c0@int_slack@2\n",
       "      + 32.475146568465 c0@int_slack@2^2 + 2.029696660529 c1@int_slack@0^2\n",
       "      + 8.118786642116 c1@int_slack@0*c1@int_slack@1\n",
       "      + 8.118786642116 c1@int_slack@1^2 ]/2 + 75.098776439575\n",
       "Subject To\n",
       "\n",
       "Bounds\n",
       "       xAAPL@0 <= 1\n",
       "       xAAPL@1 <= 1\n",
       "       xSPOT@0 <= 1\n",
       "       xSPOT@1 <= 1\n",
       "       xMSFT@0 <= 1\n",
       "       xMSFT@1 <= 1\n",
       "       c0@int_slack@0 <= 1\n",
       "       c0@int_slack@1 <= 1\n",
       "       c0@int_slack@2 <= 1\n",
       "       c1@int_slack@0 <= 1\n",
       "       c1@int_slack@1 <= 1\n",
       "End"
      ]
     },
     "execution_count": 27,
     "metadata": {},
     "output_type": "execute_result"
    }
   ],
   "source": [
    "relaxed_qubo = relax_problem(qubo)\n",
    "relaxed_qubo"
   ]
  },
  {
   "cell_type": "code",
   "execution_count": 28,
   "metadata": {},
   "outputs": [],
   "source": [
    "continuous_result = CplexOptimizer().solve(relaxed_qubo)"
   ]
  },
  {
   "cell_type": "markdown",
   "metadata": {},
   "source": [
    "While the solution of this continuous relaxation may differ at times from the solution in the binary problem, it can still be used to warm-start a solver when dealing with the binary problem."
   ]
  },
  {
   "cell_type": "code",
   "execution_count": 29,
   "metadata": {},
   "outputs": [
    {
     "name": "stdout",
     "output_type": "stream",
     "text": [
      "Solution found with a $750.00 budget:\n",
      "\n",
      "Total cost of assets to buy is $712.78\n",
      "Stocks to buy are: \n",
      "\t1 shares of AAPL at $280.27 per share\n",
      "\t3 shares of SPOT at $144.17 per share\n",
      "\t0 shares of MSFT at $160.07 per share\n"
     ]
    }
   ],
   "source": [
    "converted_result = convert_qubo_result(continuous_result, stock_tickers, share_limit)\n",
    "print_converted_result(converted_result, budget, asset_costs)"
   ]
  },
  {
   "cell_type": "code",
   "execution_count": 30,
   "metadata": {},
   "outputs": [
    {
     "data": {
      "text/plain": [
       "[1.0,\n",
       " 0.4997623409901366,\n",
       " 1.0,\n",
       " 0.9999754638432901,\n",
       " 6.305594772500309e-05,\n",
       " 0,\n",
       " 1.0,\n",
       " 0.5002184016577651,\n",
       " 0,\n",
       " 3.5833947597924424e-05,\n",
       " 0]"
      ]
     },
     "execution_count": 30,
     "metadata": {},
     "output_type": "execute_result"
    }
   ],
   "source": [
    "continuous_result.samples[0].x"
   ]
  },
  {
   "cell_type": "markdown",
   "metadata": {},
   "source": [
    "### Simulate using VQE\n",
    "The Variational Quantum Eigensolver (VQE) uses the variational principle to compute the ground state energy of a Hamiltonian. The objective of VQE is to find a parameterization of $|\\psi\\rangle$, such that the expectation value of the Hamiltonian is minimized. Mathematically, the aim is to find an approximatation to the eigenvector $|\\psi\\rangle$ of the Hermitian operator $\\hat{H}$ corresponding to the lowest eigenvalue, $E_0$. [arXiv:2111.05176: The Variational Quantum Eigensolver: a review of methods and best practices](https://arxiv.org/abs/2111.05176)\n",
    "\n",
    "Additionally, TwoLocal is a parameterized circuit that consists of alternating rotation layers and entanglement layers, which, in this case are $R_y$ and $CZ$ layers. The rotation layer performs the rotation as a single qubit gates applied on all qubits. The entanglement layer uses the two-qubit $CZ$ gate to entangle each qubit with all the other qubits as specified by `entanglement=full`."
   ]
  },
  {
   "cell_type": "code",
   "execution_count": 31,
   "metadata": {},
   "outputs": [],
   "source": [
    "algorithm_globals.random_seed = 1234\n",
    "backend = Aer.get_backend('qasm_simulator')\n",
    "\n",
    "cobyla = COBYLA()\n",
    "cobyla.set_options(maxiter=200)\n",
    "ry = TwoLocal(num_qubits=num_qubits, rotation_blocks='ry', entanglement_blocks='cz', reps=1, entanglement='full')\n",
    "qi = QuantumInstance(backend=backend, seed_simulator=seed, seed_transpiler=seed)\n",
    "vqe_mes = VQE(ry, optimizer=cobyla, quantum_instance=qi)\n",
    "vqe = MinimumEigenOptimizer(vqe_mes)\n",
    "vqe_result = vqe.solve(qubo)"
   ]
  },
  {
   "cell_type": "code",
   "execution_count": 32,
   "metadata": {},
   "outputs": [
    {
     "name": "stdout",
     "output_type": "stream",
     "text": [
      "Solution found with a $750.00 budget:\n",
      "\n",
      "Total cost of assets to buy is $1,433.39\n",
      "Stocks to buy are: \n",
      "\t3 shares of AAPL at $280.27 per share\n",
      "\t3 shares of SPOT at $144.17 per share\n",
      "\t1 shares of MSFT at $160.07 per share\n"
     ]
    }
   ],
   "source": [
    "converted_vqe_result = convert_qubo_result(vqe_result, stock_tickers, share_limit)\n",
    "print_converted_result(converted_vqe_result, budget, asset_costs)"
   ]
  },
  {
   "cell_type": "markdown",
   "metadata": {},
   "source": [
    "### Simulate using QAOA\n",
    "The Quantum Approximate Optimization Algorithm (QAOA) is a quantum variational algorithm that uses unitary $U\\left(\\beta,\\gamma\\right)$ characterized by parameters $\\left(\\beta,\\gamma\\right)$ to prepare a quantum state $|\\psi\\left(\\beta,\\gamma\\right)\\rangle$ The goal of the algorithm is to find optimal parameters $\\left(\\beta_{opt},\\gamma_{opt}\\right)$ such that the quantum state $|\\psi\\left(\\beta_{opt},\\gamma_{opt}\\right)\\rangle$ encodes the solution to the problem.\n",
    "\n",
    "The unitary above, $U\\left(\\beta,\\gamma\\right)$, has a specific form and is composed of two unitaries $U\\left(\\beta\\right)=e^{-i\\beta H_B}$ and $U\\left(\\gamma\\right)=e^{-i\\gamma H_P}$ where $H_B$ is the mixing Hamiltonian and $H_P$ is the problem Hamiltonian.\n",
    "\n",
    "Through alternating these two blocks of unitaries $p$ times such that\n",
    "\n",
    "$\\begin{aligned}\n",
    "\\lvert \\psi(\\boldsymbol{\\beta}, \\boldsymbol{\\gamma}) \\rangle = \\underbrace{U(\\boldsymbol{\\beta}) U(\\boldsymbol{\\gamma}) \\cdots U(\\boldsymbol{\\beta}) U(\\boldsymbol{\\gamma})}_{p \\; \\text{times}} \\lvert \\psi_0 \\rangle\n",
    "\\end{aligned}$\n",
    "\n",
    "where $|\\psi_0\\rangle$ is a suitable initial state.\n",
    "\n",
    "[arXiv:1411.4028: A Quantum Approximate Optimization Algorithm](https://arxiv.org/abs/1411.4028)\n",
    "\n",
    "[Qiskit Textbook: Solving combinatorial optimization problems using QAOA](https://qiskit.org/textbook/ch-applications/qaoa.html)"
   ]
  },
  {
   "cell_type": "code",
   "execution_count": 33,
   "metadata": {},
   "outputs": [],
   "source": [
    "algorithm_globals.random_seed = 1234\n",
    "backend = Aer.get_backend('qasm_simulator')\n",
    "\n",
    "cobyla = COBYLA()\n",
    "cobyla.set_options(maxiter=200)\n",
    "qi = QuantumInstance(backend=backend, seed_simulator=seed, seed_transpiler=seed)\n",
    "qaoa_mes = QAOA(optimizer=cobyla, reps=1, quantum_instance=qi)\n",
    "qaoa = MinimumEigenOptimizer(qaoa_mes)\n",
    "qaoa_result = qaoa.solve(qubo)"
   ]
  },
  {
   "cell_type": "code",
   "execution_count": 34,
   "metadata": {},
   "outputs": [
    {
     "name": "stdout",
     "output_type": "stream",
     "text": [
      "Solution found with a $750.00 budget:\n",
      "\n",
      "Total cost of assets to buy is $872.85\n",
      "Stocks to buy are: \n",
      "\t1 shares of AAPL at $280.27 per share\n",
      "\t3 shares of SPOT at $144.17 per share\n",
      "\t1 shares of MSFT at $160.07 per share\n"
     ]
    }
   ],
   "source": [
    "converted_qaoa_result = convert_qubo_result(qaoa_result, stock_tickers, share_limit)\n",
    "print_converted_result(converted_qaoa_result, budget, asset_costs)"
   ]
  },
  {
   "cell_type": "markdown",
   "metadata": {},
   "source": [
    "### Warm-start QAOA\n",
    "The first step to implementing a warm-start QAOA is to create the initial state\n",
    "$\\begin{align}\n",
    "|\\phi^*\\rangle=\\bigotimes_{i=0}^{n-1}R_y(\\theta_i)|0\\rangle_n .\n",
    "\\end{align}$\n",
    "which is given by applying $R_y$ rotations with an angle $\\theta = 2 arcsin(\\sqrt{c_i^*})$ that depends on the solution to the relaxed problem. Here, $c_i^*$ is the value of variable $i$ of the relaxed problem.\n",
    "\n",
    "In this problem, I will be using $\\hat{R}_Y\\left(\\theta_i\\right)$, a rotation around the Y-axis of qubit i, with an angle specified above, $\\theta_i = 2 arcsin(\\sqrt{c_i^*})$. Through these rotations, it creates an initialized circuit as seen below.\n",
    "\n",
    "[arXiv:2009.10095: Warm-starting quantum optimization](https://arxiv.org/abs/2009.10095)"
   ]
  },
  {
   "cell_type": "code",
   "execution_count": 35,
   "metadata": {},
   "outputs": [
    {
     "data": {
      "text/plain": [
       "[1.0,\n",
       " 0.4997623409901366,\n",
       " 1.0,\n",
       " 0.9999754638432901,\n",
       " 6.305594772500309e-05,\n",
       " 0,\n",
       " 1.0,\n",
       " 0.5002184016577651,\n",
       " 0,\n",
       " 3.5833947597924424e-05,\n",
       " 0]"
      ]
     },
     "execution_count": 35,
     "metadata": {},
     "output_type": "execute_result"
    }
   ],
   "source": [
    "c_stars = continuous_result.samples[0].x\n",
    "c_stars"
   ]
  },
  {
   "cell_type": "code",
   "execution_count": 36,
   "metadata": {},
   "outputs": [
    {
     "data": {
      "image/png": "[encoded data removed]",
      "text/plain": [
       "<Figure size 159.633x686.28 with 1 Axes>"
      ]
     },
     "execution_count": 36,
     "metadata": {},
     "output_type": "execute_result"
    }
   ],
   "source": [
    "thetas = [2 * np.arcsin(np.sqrt(c_star)) for c_star in c_stars]\n",
    "\n",
    "init_qc = QuantumCircuit(len(thetas))\n",
    "for idx, theta in enumerate(thetas):\n",
    "    init_qc.ry(thetas[idx], idx)\n",
    "\n",
    "init_qc.draw(output='mpl')"
   ]
  },
  {
   "cell_type": "markdown",
   "metadata": {},
   "source": [
    "After initializing the circuit with $R_Y$ rotations, I create the mixer operator for QAOA. Furthermore, the mixer operator must have its initial state as ground state when warm-starting QAOA. Therefore, the following Hamiltonian is chosen\n",
    "$\\begin{align}\n",
    "H_{M,i}^{(ws)}= \\begin{pmatrix}\n",
    "2c_i^*-1 & -2\\sqrt{c_i^*(1-c_i^*)} \\\\\n",
    "-2\\sqrt{c_i^*(1-c_i^*)} & 1-2c_i^*\n",
    "\\end{pmatrix}\n",
    "\\end{align}$\n",
    "as the mixer operator for qubit $i$. After being multiplied by $-i\\beta$ and exponentiated the mixer produces the mixer circuit below."
   ]
  },
  {
   "cell_type": "code",
   "execution_count": 37,
   "metadata": {},
   "outputs": [
    {
     "data": {
      "image/png": "[encoded data removed]",
      "text/plain": [
       "<Figure size 280.033x686.28 with 1 Axes>"
      ]
     },
     "execution_count": 37,
     "metadata": {},
     "output_type": "execute_result"
    }
   ],
   "source": [
    "beta = Parameter('β')\n",
    "\n",
    "ws_mixer = QuantumCircuit(len(thetas))\n",
    "for idx, theta in enumerate(thetas):\n",
    "    ws_mixer.ry(-theta, idx)\n",
    "    ws_mixer.rz(-2 * beta, idx)\n",
    "    ws_mixer.ry(theta, idx)\n",
    "\n",
    "ws_mixer.draw(output='mpl')"
   ]
  },
  {
   "cell_type": "markdown",
   "metadata": {},
   "source": [
    "Now passing the inital state and mixer operator to QAOA produces the identical result to the classical simulation, showing that warm-start QAOA provides benefits."
   ]
  },
  {
   "cell_type": "code",
   "execution_count": 38,
   "metadata": {},
   "outputs": [],
   "source": [
    "ws_qaoa_mes = QAOA(\n",
    "    quantum_instance=qi,\n",
    "    initial_state=init_qc,\n",
    "    mixer=ws_mixer,\n",
    "    initial_point=[0.0, 1.0],\n",
    ")\n",
    "ws_qaoa = MinimumEigenOptimizer(ws_qaoa_mes)\n",
    "ws_qaoa_result = ws_qaoa.solve(qubo)"
   ]
  },
  {
   "cell_type": "code",
   "execution_count": 39,
   "metadata": {},
   "outputs": [
    {
     "name": "stdout",
     "output_type": "stream",
     "text": [
      "Solution found with a $750.00 budget:\n",
      "\n",
      "Total cost of assets to buy is $712.78\n",
      "Stocks to buy are: \n",
      "\t1 shares of AAPL at $280.27 per share\n",
      "\t3 shares of SPOT at $144.17 per share\n",
      "\t0 shares of MSFT at $160.07 per share\n"
     ]
    }
   ],
   "source": [
    "converted_ws_qaoa_result = convert_qubo_result(ws_qaoa_result, stock_tickers, share_limit)\n",
    "print_converted_result(converted_ws_qaoa_result, budget, asset_costs)"
   ]
  },
  {
   "cell_type": "code",
   "execution_count": 40,
   "metadata": {},
   "outputs": [],
   "source": [
    "def format_qaoa_samples(samples, max_len: int=10):\n",
    "    qaoa_res = []\n",
    "    for s in samples:\n",
    "        converted_s_x = convert_qubo_result(s, stock_tickers, share_limit)\n",
    "        s_probability = s.probability\n",
    "        qaoa_res.append([converted_s_x, s_probability])\n",
    "\n",
    "    res = sorted(qaoa_res, key=lambda x: -x[1])[:max_len]\n",
    "\n",
    "    return [(str(res_i[0] )+ f', probability: {100*res_i[1]:.1f}%') for res_i in res]"
   ]
  },
  {
   "cell_type": "code",
   "execution_count": 41,
   "metadata": {},
   "outputs": [
    {
     "data": {
      "text/plain": [
       "[\"{'AAPL': 1, 'SPOT': 3, 'MSFT': 3}, probability: 0.7%\",\n",
       " \"{'AAPL': 2, 'SPOT': 1, 'MSFT': 3}, probability: 0.5%\",\n",
       " \"{'AAPL': 3, 'SPOT': 1, 'MSFT': 2}, probability: 0.5%\",\n",
       " \"{'AAPL': 2, 'SPOT': 2, 'MSFT': 1}, probability: 0.5%\",\n",
       " \"{'AAPL': 2, 'SPOT': 0, 'MSFT': 2}, probability: 0.5%\",\n",
       " \"{'AAPL': 3, 'SPOT': 3, 'MSFT': 3}, probability: 0.5%\",\n",
       " \"{'AAPL': 1, 'SPOT': 0, 'MSFT': 3}, probability: 0.5%\",\n",
       " \"{'AAPL': 2, 'SPOT': 2, 'MSFT': 1}, probability: 0.5%\",\n",
       " \"{'AAPL': 1, 'SPOT': 0, 'MSFT': 3}, probability: 0.5%\",\n",
       " \"{'AAPL': 1, 'SPOT': 0, 'MSFT': 0}, probability: 0.5%\"]"
      ]
     },
     "execution_count": 41,
     "metadata": {},
     "output_type": "execute_result"
    }
   ],
   "source": [
    "format_qaoa_samples(qaoa_result.samples)"
   ]
  },
  {
   "cell_type": "code",
   "execution_count": 42,
   "metadata": {},
   "outputs": [
    {
     "data": {
      "text/plain": [
       "[\"{'AAPL': 1, 'SPOT': 3, 'MSFT': 0}, probability: 27.1%\",\n",
       " \"{'AAPL': 3, 'SPOT': 3, 'MSFT': 0}, probability: 25.2%\",\n",
       " \"{'AAPL': 1, 'SPOT': 3, 'MSFT': 0}, probability: 23.9%\",\n",
       " \"{'AAPL': 3, 'SPOT': 3, 'MSFT': 0}, probability: 23.7%\"]"
      ]
     },
     "execution_count": 42,
     "metadata": {},
     "output_type": "execute_result"
    }
   ],
   "source": [
    "format_qaoa_samples(ws_qaoa_result.samples)"
   ]
  },
  {
   "cell_type": "markdown",
   "metadata": {},
   "source": [
    "As seen in these results, warm-starting QAOA generates more confident results with higher probability that are accurate to the classical solution. As quantum processers are developed to allow many more qubits, portfolio optimization can be done on with many stocks with more precision."
   ]
  }
 ],
 "metadata": {
  "interpreter": {
   "hash": "9bf743333e41296147f6a175b2ffd0bcec11fd937fe5651b295727fd77246a74"
  },
  "kernelspec": {
   "display_name": "Python 3.9.10 64-bit",
   "language": "python",
   "name": "python3"
  },
  "language_info": {
   "codemirror_mode": {
    "name": "ipython",
    "version": 3
   },
   "file_extension": ".py",
   "mimetype": "text/x-python",
   "name": "python",
   "nbconvert_exporter": "python",
   "pygments_lexer": "ipython3",
   "version": "3.9.10"
  },
  "orig_nbformat": 4
 },
 "nbformat": 4,
 "nbformat_minor": 2
}
